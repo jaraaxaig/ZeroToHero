{
 "cells": [
  {
   "cell_type": "code",
   "execution_count": 4,
   "id": "70c9f34f",
   "metadata": {},
   "outputs": [
    {
     "name": "stdout",
     "output_type": "stream",
     "text": [
      "[10, 10, 13, 15, 19]\n",
      "19\n"
     ]
    }
   ],
   "source": [
    "# O(n) time | O(n) space\n",
    "def maxSubSet(arr):\n",
    "    if not len(arr):\n",
    "        return\n",
    "    if len(arr) == 1:\n",
    "        return arr[0]\n",
    "    \n",
    "    dp = [0] * len(arr)\n",
    "    dp[0] = arr[0]\n",
    "    dp[1] = max(arr[0], arr[1])\n",
    "    \n",
    "    for i in range(2, len(arr)):\n",
    "        dp[i] = max(dp[i-1], dp[i-2] + arr[i])\n",
    "    print(dp)\n",
    "    return dp[-1]\n",
    "\n",
    "print(maxSubSet([10,2,3,5,6]))"
   ]
  },
  {
   "cell_type": "code",
   "execution_count": null,
   "id": "4d835198",
   "metadata": {},
   "outputs": [],
   "source": []
  }
 ],
 "metadata": {
  "kernelspec": {
   "display_name": "Python 3 (ipykernel)",
   "language": "python",
   "name": "python3"
  },
  "language_info": {
   "codemirror_mode": {
    "name": "ipython",
    "version": 3
   },
   "file_extension": ".py",
   "mimetype": "text/x-python",
   "name": "python",
   "nbconvert_exporter": "python",
   "pygments_lexer": "ipython3",
   "version": "3.9.12"
  }
 },
 "nbformat": 4,
 "nbformat_minor": 5
}
